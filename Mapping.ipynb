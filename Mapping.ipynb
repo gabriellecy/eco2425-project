{
 "cells": [
  {
   "cell_type": "markdown",
   "id": "347f05ce",
   "metadata": {},
   "source": [
    "# Project 2 - Maps"
   ]
  },
  {
   "cell_type": "markdown",
   "id": "02cbc8a7",
   "metadata": {},
   "source": [
    "Data from: Heyes, Anthony, and Soodeh Saberian. 2019. \"Temperature and Decisions: Evidence from 207,000 Court Cases.\" American Economic Journal: Applied Economics, 11 (2): 238–65.\n",
    "\n",
    "Notebooks used troughout the code: \n",
    "- ECO225 - Mapping Notebook\n",
    "- Dictionaries mapping based on data found online, as outlined."
   ]
  },
  {
   "cell_type": "code",
   "execution_count": null,
   "id": "820e1b3c",
   "metadata": {},
   "outputs": [],
   "source": [
    "!pip install geopandas plotly\n",
    "!pip install geopandas geopy\n",
    "!pip install cartopy\n",
    "!pip install shapely"
   ]
  },
  {
   "cell_type": "code",
   "execution_count": null,
   "id": "b67e9792",
   "metadata": {},
   "outputs": [],
   "source": [
    "import pandas as pd\n",
    "import geopandas as gpd\n",
    "import matplotlib.pyplot as plt\n",
    "import shapely"
   ]
  },
  {
   "cell_type": "code",
   "execution_count": null,
   "id": "301c8bfe",
   "metadata": {},
   "outputs": [],
   "source": [
    "#Obtain shape file for US\n",
    "state_df = gpd.read_file(\"http://www2.census.gov/geo/tiger/GENZ2016/shp/cb_2016_us_state_5m.zip\")\n",
    "state_df = state_df.rename(columns={\"NAME\":\"Province_State\"})\n",
    "state_df"
   ]
  },
  {
   "cell_type": "code",
   "execution_count": null,
   "id": "9e2762dd",
   "metadata": {},
   "outputs": [],
   "source": [
    "df = pd.read_stata('matched_corrected.dta')\n",
    "unique_counts = df['id'].value_counts()\n",
    "print(unique_counts)"
   ]
  },
  {
   "cell_type": "code",
   "execution_count": null,
   "id": "7a9146fe",
   "metadata": {},
   "outputs": [],
   "source": [
    "#Information from: https://www.infoplease.com/us/geography/latitude-and-longitude-us-and-canadian-cities\n",
    "city_coordinates = {\n",
    "    \"NEW YORK\": (40, -74),\n",
    "    \"MIAMI\": (26, -80),\n",
    "    \"LOS ANGELES\": (34, -118),\n",
    "    \"SAN FRANCISCO\": (38, -122),\n",
    "    \"CHICAGO\": (42, -88),\n",
    "    \"NEWARK\": (41, -74),\n",
    "    \"BALTIMORE\": (39, -77),\n",
    "    \"ORLANDO\": (29, -81),\n",
    "    \"ARLINGTON\": (33, -97),\n",
    "    \"PHILADELPHIA\": (40, -75),\n",
    "    \"BOSTON\": (42, -71),\n",
    "    \"SAN DIEGO\": (33, -117),\n",
    "    \"HOUSTON\": (30, -95),\n",
    "    \"MEMPHIS\": (35, -90),\n",
    "    \"DALLAS\": (33, -97),\n",
    "    \"DETROIT\": (42, -83),\n",
    "    \"DENVER\": (40, -105),\n",
    "    \"ATLANTA\": (33, -85),\n",
    "    \"HARTFORD\": (42, -73),\n",
    "    \"LAS VEGAS\": (36, -115),\n",
    "    \"SEATTLE\": (48, -122),\n",
    "    \"PHOENIX\": (33, -112),\n",
    "    \"NEW ORLEANS\": (30, -90),\n",
    "    \"EL PASO\": (32, -106),\n",
    "    \"SAN PEDRO\": (34, -118),\n",
    "    \"HONOLULU\": (21, -158),\n",
    "    \"SAN ANTONIO\": (29, -98),\n",
    "    \"BUFFALO\": (43, -79),\n",
    "    \"LANCASTER\": (40, -76),\n",
    "    \"PORTLAND\": (46, -123),\n",
    "    \"BRADENTON\": (27, -83),\n",
    "    \"YORK\": (40, -77),\n",
    "    \"IMPERIAL\": (33, -116),\n",
    "    \"GUAYNABO\": (18, -66),\n",
    "    \"TUCSON\": (32, -111),\n",
    "}\n",
    "\n",
    "coordinates_df = pd.DataFrame.from_dict(city_coordinates, orient='index', columns=['latitude', 'longitude'])\n",
    "coordinates_df.index.name = 'id'\n",
    "coordinates_df.reset_index(inplace=True)\n",
    "df_merged = pd.merge(df, coordinates_df, on='id', how='left')\n",
    "print(df_merged)"
   ]
  },
  {
   "cell_type": "code",
   "execution_count": null,
   "id": "467c34f2",
   "metadata": {},
   "outputs": [],
   "source": [
    "#Calculate the average resolution and temperature per city\n",
    "city_avg = df_merged.groupby('city').agg(\n",
    "    avg_res=('res', 'mean'),\n",
    "    avg_temp=('temp6t4', 'mean'),\n",
    "    lat=('latitude', 'first'),\n",
    "    lon=('longitude', 'first')\n",
    ").reset_index()\n",
    "\n",
    "print(city_avg)"
   ]
  },
  {
   "cell_type": "code",
   "execution_count": null,
   "id": "7874874f",
   "metadata": {},
   "outputs": [],
   "source": [
    "city_state_mapping = {\n",
    "    \"NEW YORK\": \"NY\",\n",
    "    \"MIAMI\": \"FL\",\n",
    "    \"LOS ANGELES\": \"CA\",\n",
    "    \"SAN FRANCISCO\": \"CA\",\n",
    "    \"CHICAGO\": \"IL\",\n",
    "    \"NEWARK\": \"NJ\",\n",
    "    \"BALTIMORE\": \"MD\",\n",
    "    \"ORLANDO\": \"FL\",\n",
    "    \"ARLINGTON\": \"TX\",\n",
    "    \"PHILADELPHIA\": \"PA\",\n",
    "    \"BOSTON\": \"MA\",\n",
    "    \"SAN DIEGO\": \"CA\",\n",
    "    \"HOUSTON\": \"TX\",\n",
    "    \"MEMPHIS\": \"TN\",\n",
    "    \"DALLAS\": \"TX\",\n",
    "    \"DETROIT\": \"MI\",\n",
    "    \"DENVER\": \"CO\",\n",
    "    \"ATLANTA\": \"GA\",\n",
    "    \"HARTFORD\": \"CT\",\n",
    "    \"LAS VEGAS\": \"NV\",\n",
    "    \"SEATTLE\": \"WA\",\n",
    "    \"PHOENIX\": \"AZ\",\n",
    "    \"NEW ORLEANS\": \"LA\",\n",
    "    \"EL PASO\": \"TX\",\n",
    "    \"SAN PEDRO\": \"CA\",\n",
    "    \"HONOLULU\": \"HI\",\n",
    "    \"SAN ANTONIO\": \"TX\",\n",
    "    \"BUFFALO\": \"NY\",\n",
    "    \"LANCASTER\": \"PA\",\n",
    "    \"PORTLAND\": \"OR\",\n",
    "    \"BRADENTON\": \"FL\",\n",
    "    \"YORK\": \"PA\",\n",
    "    \"IMPERIAL\": \"CA\",\n",
    "    \"GUAYNABO\": \"PR\",  \n",
    "    \"TUCSON\": \"AZ\",\n",
    "}\n",
    "\n",
    "city_state_df = pd.DataFrame(list(city_state_mapping.items()), columns=['city', 'state'])\n",
    "city_avg = city_avg.merge(city_state_df, on='city', how='left')\n",
    "print(city_avg)"
   ]
  },
  {
   "cell_type": "code",
   "execution_count": null,
   "id": "bb5241b2",
   "metadata": {},
   "outputs": [],
   "source": [
    "fig, axs = plt.subplots(figsize=(15, 10))\n",
    "map_color = 'white'  \n",
    "point_color = 'red'  \n",
    "\n",
    "state_df.boundary.plot(ax=axs, linewidth=1, color='black')\n",
    "state_df.plot(ax=axs, color=\"white\", edgecolor='white')  # Fill states\n",
    "\n",
    "# Plot each city as a pin\n",
    "for lat, lon in city_coordinates.values():\n",
    "    axs.plot(lon, lat, marker='D', color=point_color, markersize=10)\n",
    "\n",
    "axs.set_xlim(-130, -60)\n",
    "axs.set_ylim(20, 50)\n",
    "axs.set_axis_off()\n",
    "axs.grid(color='white', linestyle='--', linewidth=0.5)\n",
    "\n",
    "plt.show()"
   ]
  },
  {
   "cell_type": "code",
   "execution_count": null,
   "id": "9b19d5c4",
   "metadata": {},
   "outputs": [],
   "source": [
    "state_avg = city_avg.groupby('state').agg(\n",
    "    avg_resolution=('avg_res', 'mean'),\n",
    "    avg_temperature=('avg_temp', 'mean')\n",
    ").reset_index()\n",
    "\n",
    "print(state_avg)"
   ]
  },
  {
   "cell_type": "code",
   "execution_count": null,
   "id": "2a007a62",
   "metadata": {},
   "outputs": [],
   "source": [
    "state_df = state_df.merge(state_avg, left_on='STUSPS', right_on='state', how='left')"
   ]
  },
  {
   "cell_type": "code",
   "execution_count": null,
   "id": "a93953f8",
   "metadata": {},
   "outputs": [],
   "source": [
    "#Remove islands for better visibility of map\n",
    "state_df = state_df[~state_df['Province_State'].isin(['Alaska', 'Hawaii','American Samoa','Guam',\n",
    "                                                      'United States Virgin Islands',\n",
    "                                                      'Commonwealth of the Northern Mariana Islands'])]"
   ]
  },
  {
   "cell_type": "code",
   "execution_count": null,
   "id": "9dc894ec",
   "metadata": {},
   "outputs": [],
   "source": [
    "#Map for average resolution\n",
    "fig, rax = plt.subplots(figsize=(50, 20)) \n",
    "\n",
    "state_df.plot(ax=rax, edgecolor=\"black\", color=\"white\")\n",
    "\n",
    "rax.set_xlabel('longitude')\n",
    "rax.set_ylabel('latitude')\n",
    "\n",
    "rax.spines['top'].set_visible(False) \n",
    "rax.spines['right'].set_visible(False) \n",
    "plt.axis('off')\n",
    "\n",
    "state_df.plot(\n",
    "     ax=rax, edgecolor='black', column='avg_resolution', \n",
    "     legend=True, cmap='PuBu', \n",
    "     vmin=0, vmax=1)\n",
    "\n",
    "rax.annotate('Resolution Rate', xy=(0.92, 0.008), xycoords='axes fraction', fontsize=30)\n",
    "plt.show()"
   ]
  },
  {
   "cell_type": "code",
   "execution_count": null,
   "id": "65f5ce8b",
   "metadata": {},
   "outputs": [],
   "source": [
    "#Map for average temperature\n",
    "fig, tax = plt.subplots(figsize=(50, 20)) \n",
    "\n",
    "state_df.plot(ax=tax, edgecolor=\"black\", color=\"white\")\n",
    "\n",
    "tax.set_xlabel('longitude')\n",
    "tax.set_ylabel('latitude')\n",
    "\n",
    "tax.spines['top'].set_visible(False) \n",
    "tax.spines['right'].set_visible(False) \n",
    "plt.axis('off')\n",
    "\n",
    "state_df.plot(\n",
    "     ax=tax, edgecolor='black', column='avg_temperature', \n",
    "     legend=True, cmap='PuBu', \n",
    "     vmin=20, vmax=100)\n",
    "\n",
    "tax.annotate('Temperature', xy=(0.95, 0.008), xycoords='axes fraction', fontsize=30)\n",
    "\n",
    "plt.show()"
   ]
  },
  {
   "cell_type": "markdown",
   "id": "52464baa",
   "metadata": {},
   "source": [
    "## Republican vs Democract"
   ]
  },
  {
   "cell_type": "code",
   "execution_count": null,
   "id": "968de098",
   "metadata": {},
   "outputs": [],
   "source": [
    "#Results 20000 Elections - https://www.archives.gov/electoral-college/2000\n",
    "data = {\n",
    "    \"State\": [\n",
    "        \"Alabama\", \"Alaska\", \"Arizona\", \"Arkansas\", \"California\", \"Colorado\", \n",
    "        \"Connecticut\", \"Delaware\", \"District of Columbia\", \"Florida\", \"Georgia\", \n",
    "        \"Hawaii\", \"Idaho\", \"Illinois\", \"Indiana\", \"Iowa\", \"Kansas\", \"Kentucky\", \n",
    "        \"Louisiana\", \"Maine\", \"Maryland\", \"Massachusetts\", \"Michigan\", \"Minnesota\", \n",
    "        \"Mississippi\", \"Missouri\", \"Montana\", \"Nebraska\", \"Nevada\", \"New Hampshire\", \n",
    "        \"New Jersey\", \"New Mexico\", \"New York\", \"North Carolina\", \"North Dakota\", \n",
    "        \"Ohio\", \"Oklahoma\", \"Oregon\", \"Pennsylvania\", \"Rhode Island\", \"South Carolina\", \n",
    "        \"South Dakota\", \"Tennessee\", \"Texas\", \"Utah\", \"Virginia\", \"Washington\", \n",
    "        \"West Virginia\", \"Wisconsin\", \"Wyoming\"\n",
    "    ],\n",
    "    \"Republican\": [\n",
    "        1, 1, 1, 1, 0, 0, 0, 0, 0, 1, 1, 0,  \n",
    "        1, 0, 1, 1, 0, 1, 1, 0, 0, 0, 0,  \n",
    "        1, 1, 0, 1, 0, 0, 0, 0, 1, 0, 1,  \n",
    "        0, 0, 0, 1, 1, 1, 1, 0, 0, 1,  \n",
    "        1, 1, 1, 1, 0, 0  \n",
    "    ]\n",
    "}\n",
    "\n",
    "df_data = pd.DataFrame(data)\n",
    "state_df = state_df.merge(df_data, left_on='Province_State', right_on='State', how='left')\n",
    "state_df"
   ]
  },
  {
   "cell_type": "code",
   "execution_count": null,
   "id": "cf90ded4",
   "metadata": {},
   "outputs": [],
   "source": [
    "# Calculate the average and standard deviation \n",
    "summary = state_df.groupby('Republican')['avg_resolution'].agg(['mean', 'std']).reset_index()\n",
    "summary['Party'] = summary['Republican'].replace({1: 'Republican', 0: 'Democract'})\n",
    "\n",
    "plt.figure(figsize=(7, 7), facecolor='white')  \n",
    "ax = plt.subplot(111, facecolor='white')  \n",
    "bars = plt.bar(summary['Party'], summary['mean'], yerr=summary['std'], capsize=5, color=['skyblue', 'lightcoral'])\n",
    "plt.ylabel('Average Resolution')\n",
    "plt.xlabel('Party Affiliation')\n",
    "for spine in ax.spines.values():\n",
    "    spine.set_visible(False)\n",
    "\n",
    "plt.xticks(rotation=0)  \n",
    "plt.tight_layout()       \n",
    "plt.show()"
   ]
  }
 ],
 "metadata": {
  "kernelspec": {
   "display_name": "Python 3 (ipykernel)",
   "language": "python",
   "name": "python3"
  },
  "language_info": {
   "codemirror_mode": {
    "name": "ipython",
    "version": 3
   },
   "file_extension": ".py",
   "mimetype": "text/x-python",
   "name": "python",
   "nbconvert_exporter": "python",
   "pygments_lexer": "ipython3",
   "version": "3.11.6"
  }
 },
 "nbformat": 4,
 "nbformat_minor": 5
}
