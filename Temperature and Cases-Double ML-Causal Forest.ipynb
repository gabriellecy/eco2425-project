{
 "cells": [
  {
   "cell_type": "markdown",
   "metadata": {},
   "source": [
    "# Project 2 - Double ML and Causal Forest"
   ]
  },
  {
   "cell_type": "markdown",
   "metadata": {},
   "source": [
    "Data from: Heyes, Anthony, and Soodeh Saberian. 2019. \"Temperature and Decisions: Evidence from 207,000 Court Cases.\" American Economic Journal: Applied Economics, 11 (2): 238–65.\n",
    "\n",
    "Notebooks used troughout the code: \n",
    "- Double Machine Learning Examples-econml"
   ]
  },
  {
   "cell_type": "code",
   "execution_count": null,
   "metadata": {},
   "outputs": [],
   "source": [
    "import pandas as pd\n",
    "import numpy as np\n",
    "import matplotlib.pyplot as plt\n",
    "import seaborn as sns"
   ]
  },
  {
   "cell_type": "code",
   "execution_count": null,
   "metadata": {},
   "outputs": [],
   "source": [
    "import warnings\n",
    "warnings.filterwarnings(\"ignore\")"
   ]
  },
  {
   "cell_type": "code",
   "execution_count": null,
   "metadata": {},
   "outputs": [],
   "source": [
    "!pip install econml"
   ]
  },
  {
   "cell_type": "code",
   "execution_count": null,
   "metadata": {},
   "outputs": [],
   "source": [
    "from econml.dml import DML, LinearDML, SparseLinearDML, CausalForestDML\n",
    "from itertools import product\n",
    "from sklearn.linear_model import (Lasso, MultiTaskElasticNetCV)\n",
    "from sklearn.ensemble import RandomForestRegressor,RandomForestClassifier\n",
    "from sklearn.preprocessing import PolynomialFeatures\n",
    "import matplotlib.pyplot as plt\n",
    "from sklearn.model_selection import train_test_split\n",
    "from sklearn.ensemble import RandomForestClassifier, RandomForestRegressor\n"
   ]
  },
  {
   "cell_type": "markdown",
   "metadata": {},
   "source": [
    "## Data Description "
   ]
  },
  {
   "cell_type": "code",
   "execution_count": null,
   "metadata": {},
   "outputs": [],
   "source": [
    "df = pd.read_stata('matched_corrected.dta')\n",
    "df.describe()"
   ]
  },
  {
   "cell_type": "code",
   "execution_count": null,
   "metadata": {},
   "outputs": [],
   "source": [
    "# Print the list of columns to identify all variables\n",
    "columns_list = df.columns.tolist()\n",
    "print(columns_list)"
   ]
  },
  {
   "cell_type": "code",
   "execution_count": null,
   "metadata": {},
   "outputs": [],
   "source": [
    "#Create a dummy for asylum\n",
    "df['dummy_asylum'] = df['c_asy_type'].apply(lambda x: 1 if x == 'E' else 0)\n",
    "#Create a dummy for gender\n",
    "df['dummy_gender'] = df['gender'].apply(lambda x: 1 if x == 'female' else 0)"
   ]
  },
  {
   "cell_type": "code",
   "execution_count": null,
   "metadata": {},
   "outputs": [],
   "source": [
    "#As outlined in the correction article drop the observation for China\n",
    "df = df[df['nat_name'] != 'CHINA']"
   ]
  },
  {
   "cell_type": "code",
   "execution_count": null,
   "metadata": {},
   "outputs": [],
   "source": [
    "# Get unique values to identify variables for the dummy variables\n",
    "unique__names = df['nat_name'].unique()\n",
    "locations = df['location'].unique()"
   ]
  },
  {
   "cell_type": "code",
   "execution_count": null,
   "metadata": {},
   "outputs": [],
   "source": [
    "# Define the list of regions\n",
    "middle_eastern_countries = [\"BAHRAIN\", \"CYPRUS\", \"EGYPT\", \"IRAN\", \"IRAQ\", \"ISRAEL\", \"JORDAN\", \n",
    "    \"KUWAIT\", \"LEBANON\", \"OMAN\", \"PALESTINE\", \"QATAR\", \"SAUDI ARABIA\", \n",
    "    \"SYRIA\", \"TURKEY\", \"UNITED ARAB EMIRATES\", \"YEMEN\"]\n",
    "\n",
    "africa = [\"ERITREA\", \"RWANDA\", \"SOMALIA\", \"SUDAN\", \"CONGO\", \"ETHIOPIA\", \"LIBYA\", \n",
    "    \"MALI\", \"ANGOLA\", \"BURUNDI\", \"TANZANIA\", \"NIGERIA\", \"GABON\", \"GHANA\", \n",
    "    \"SENEGAL\", \"CHAD\", \"DJIBOUTI\", \"CAMEROON\", \"UGANDA\", \"KENYA\", \n",
    "    \"ZAMBIA\", \"MAURITANIA\", \"SOUTH AFRICA\", \"GUINEA\", \"BURKINA FASO\", \n",
    "    \"MOROCCO\", \"ALGERIA\", \"COMORO ISLANDS\", \"EQUATORIAL GUINEA\", \n",
    "    \"CENTRAL AFRICAN REPUBLIC\", \"CAPE VERDE\", \"LESOTHO\", \"SWAZILAND\", \n",
    "    \"GAMBIA\", \"SIERRA LEONE\", \"GUINEA BISSAU\"]\n",
    "\n",
    "america = [\"GUATEMALA\", \"EL SALVADOR\", \"PANAMA\", \"COLOMBIA\", \n",
    "    \"ARGENTINA\", \"HAITI\", \"VENEZUELA\", \"MEXICO\", \"CUBA\", \"DOMINICAN REPUBLIC\", \n",
    "    \"BRAZIL\", \"CHILE\", \"SURINAME\", \"TRINIDAD AND TOBAGO\", \"JAMAICA\", \n",
    "    \"CANADA\", \"USA\", \"ST. KITTS, WEST INDIES\", \"ANTIGUA AND BARBUDA\", \n",
    "    \"BARBADOS\", \"BAHAMAS\", \"BELIZE\", \"DOMINICA\", \"GRENADA\", \n",
    "    \"NICARAGUA\", \"URUGUAY\", \"PARAGUAY\", \"ST. LUCIA\", \"ST. VINCENT AND THE GRENADINES\"]\n",
    "\n",
    "asia = [\"PAKISTAN\", \"VIETNAM\", \"INDONESIA\", \"AFGHANISTAN\", \n",
    "    \"IRAN\", \"BANGLADESH\", \"PHILIPPINES\", \"TAIWAN\", \"MALAYSIA\", \n",
    "    \"KAZAKHSTAN\", \"KYRGYZSTAN\", \"THAILAND\", \"TURKMENISTAN\", \"UZBEKISTAN\", \n",
    "    \"MONGOLIA\", \"SRI LANKA\", \"BHUTAN\", \"LAOS\", \"NEPAL\", \n",
    "    \"MYANMAR\", \"KAMPUCHEA\", \"BRUNEI\", \"BURMA\", \"KOREA\", \"NORTH KOREA\"]\n",
    "\n",
    "europe = [\"RUSSIA\", \"ARMENIA\", \"ALBANIA\", \"YUGOSLAVIA\", \"UNITED KINGDOM\", \n",
    "    \"BULGARIA\", \"ROMANIA\", \"HUNGARY\", \"POLAND\", \"CZECH REPUBLIC\", \n",
    "    \"SLOVAK REPUBLIC\", \"GERMANY\", \"FRANCE\", \"ITALY\", \"SPAIN\", \n",
    "    \"SWEDEN\", \"DENMARK\", \"FINLAND\", \"AUSTRIA\", \"SWITZERLAND\", \n",
    "    \"BELGIUM\", \"GREECE\", \"NETHERLANDS\", \"CROATIA\", \"SLOVENIA\", \n",
    "    \"MONACO\", \"LITHUANIA\", \"LATVIA\", \"ESTONIA\", \"ICELAND\"]\n",
    "\n",
    "df['middleast'] = 0\n",
    "df['america'] = 0\n",
    "df['africa'] = 0\n",
    "df['asia'] = 0\n",
    "df['europe'] = 0\n",
    "\n",
    "df.loc[df['nat_name'].isin(middle_eastern_countries), 'middleast'] = 1\n",
    "df.loc[df['nat_name'].isin(america), 'america'] = 1\n",
    "df.loc[df['nat_name'].isin(africa), 'africa'] = 1\n",
    "df.loc[df['nat_name'].isin(asia), 'asia'] = 1\n",
    "df.loc[df['nat_name'].isin(europe), 'europe'] = 1\n",
    "\n",
    "#Create interaction terms\n",
    "df['middleast_dev'] = df['middleast']*df['temp6t4']\n",
    "df['america_dev'] = df['america']*df['temp6t4']\n",
    "df['africa_dev'] = df['africa']*df['temp6t4']\n",
    "df['asia_dev'] = df['asia']*df['temp6t4']\n",
    "df['europe_dev'] = df['europe']*df['temp6t4']"
   ]
  },
  {
   "cell_type": "code",
   "execution_count": null,
   "metadata": {},
   "outputs": [],
   "source": [
    "#Create a categorical variable for location and group locations into regions\n",
    "northeast = ['NEWARK', 'BOSTON', 'NEW YORK CITY', 'BUFFALO', 'PHILADELPHIA', \n",
    "    'NEW YORK ANNEX', 'NY DET (VARICK ST.)', 'HARTFORD', \n",
    "    '*PA DOC.', 'CLEVELAND', '*BOP  DANBURY', '*RI  DOC',\n",
    "    '*WISCONSIN DOC', '*NH  DOC', '*SUFFOLK COUNTY','*NEWARK VIDEO HEARINGS','*JESSUP'\n",
    "    '*BOP ALLENWOOD', '*NORTHERN STATE NJ DOC','YORK COUNTY DET','YORK COUNTY DET']\n",
    "\n",
    "midwest = ['CHICAGO', 'DETROIT', 'CINCINNATI', 'CLEVELAND', 'ST. LOUIS', \n",
    "    'MEMPHIS', 'KANSAS CITY', 'OMAHA', '*MI  DOC', \n",
    "    '*IL DOC - STATESVILLE', '*MO DOC', '*OHIO DOC', \n",
    "    '*INDIANA YOUTH CENTER']\n",
    "\n",
    "south = ['ARLINGTON', 'DALLAS', 'HOUSTON', 'MIAMI', 'ATLANTA', \n",
    "    'NEW ORLEANS', 'SAN ANTONIO', 'DALLAS DET', 'SAN ANTONIO DET', \n",
    "    'HOUSTON DET', 'ATLANTA DET', '*GEORGIA DOC', '*VA DOC', \n",
    "    '*DADE COUNTY FL DOC', '*BROWARD  FL DOC', 'ORLANDO', 'KROME DET',\n",
    "    'PORT ISABEL DET', 'EL PASO', 'EL PASO DET', '*TX DOC', \n",
    "    'LOUISVILLE', 'OKLAHOMA CITY', 'OKLAHOMA CITY DET', \n",
    "    'BATAVIA SPC', 'BROWARD TRANS CTR','ST. THOMAS', 'ST. CROIX', 'ROLLING PLAINS DETENTION CENTER',\n",
    "    '*BOP BIG SPRING AIRPARK','BRADENTON DET','SAN ANTONIO DET']\n",
    "\n",
    "west = ['DENVER', 'SAN DIEGO', 'LOS ANGELES', 'SAN FRANCISCO', \n",
    "    'PHOENIX', 'LAS VEGAS', 'RENO', 'SALT LAKE CITY', 'OTAY MESA', \n",
    "    'TUCSON', 'HONOLULU', 'SAN JUAN', 'SEATTLE', 'PORTLAND',\n",
    "    'SAN FRANCISCO DET', 'DENVER DET', 'SAN DIEGO DETAINED', \n",
    "    'MIRA LOMA DET', 'HONOLULU DET', '*CO DOC', '*AZ DOC',\n",
    "    '*WA DOC', '*AK DOC', 'ANCHORAGE', 'SAN PEDRO', \n",
    "    'IMPERIAL', '*NM DOC','PORTLAND DET','*MONROE WA DOC','SAN FRANCISCO ANNEX']\n",
    "\n",
    "\n",
    "df['northeast'] = 0\n",
    "df['midwest'] = 0\n",
    "df['south'] = 0\n",
    "df['west'] = 0\n",
    "\n",
    "df.loc[df['location'].isin(northeast), 'northeast'] = 1\n",
    "df.loc[df['location'].isin(midwest), 'midwest'] = 1\n",
    "df.loc[df['location'].isin(south), 'south'] = 1\n",
    "df.loc[df['location'].isin(west), 'west'] = 1"
   ]
  },
  {
   "cell_type": "code",
   "execution_count": null,
   "metadata": {},
   "outputs": [],
   "source": [
    "df['month'] = df['date'].dt.month\n",
    "df = pd.get_dummies(df, columns=['month'], prefix='month', drop_first=False)"
   ]
  },
  {
   "cell_type": "code",
   "execution_count": null,
   "metadata": {},
   "outputs": [],
   "source": [
    "df['year'] = df['date'].dt.year\n",
    "\n",
    "df['year2000'] = 0\n",
    "df['year2001'] = 0\n",
    "df['year2002'] = 0\n",
    "df['year2003'] = 0\n",
    "df['year2004'] = 0\n",
    "\n",
    "df.loc[df['year'] == 2000, 'year2000'] = 1\n",
    "df.loc[df['year'] == 2001, 'year2001'] = 1\n",
    "df.loc[df['year'] == 2002, 'year2002'] = 1\n",
    "df.loc[df['year'] == 2003, 'year2003'] = 1\n",
    "df.loc[df['year'] == 2004, 'year2004'] = 1\n",
    "\n",
    "# Interaction term for location and year\n",
    "years = [2000, 2001, 2002, 2003, 2004]\n",
    "locations = ['northeast', 'midwest', 'south', 'west']\n",
    "\n",
    "for year in years:\n",
    "    for location in locations:\n",
    "        df[f'{location}_year{year}'] = df[location] * df[f'year{year}']"
   ]
  },
  {
   "cell_type": "code",
   "execution_count": null,
   "metadata": {},
   "outputs": [],
   "source": [
    "#Clean the dataset\n",
    "\n",
    "#Drop asylum cases with no classification\n",
    "df = df[df['c_asy_type'].isin(['E', 'I'])]\n",
    "df_final = df.dropna(axis=0) "
   ]
  },
  {
   "cell_type": "markdown",
   "metadata": {},
   "source": [
    "# Double Machine Learning"
   ]
  },
  {
   "cell_type": "code",
   "execution_count": null,
   "metadata": {},
   "outputs": [],
   "source": [
    "df_final['T_binary'] = (df_final['deviation'] > 0.000095).astype(int)\n",
    "print(df_final['T_binary'].value_counts())\n",
    "T = 'T_binary'\n",
    "Y = 'res'\n",
    "X = ['chair', 'dummy_asylum', 'dummy_gender', \n",
    "                     'middleast', 'america', 'africa', 'europe', 'northeast', 'midwest', \n",
    "                     'south', 'year2000', 'year2001', 'year2002', \n",
    "                     'year2003','month_1',\n",
    "                     'month_2','month_3','month_4','month_5','month_6','month_7','month_8',\n",
    "                     'month_9','month_10','month_11']"
   ]
  },
  {
   "cell_type": "code",
   "execution_count": null,
   "metadata": {},
   "outputs": [],
   "source": [
    "df_final['deviation'].describe()"
   ]
  },
  {
   "cell_type": "code",
   "execution_count": null,
   "metadata": {},
   "outputs": [],
   "source": [
    "sampled_df = df_final.sample(frac=0.3, random_state=42)"
   ]
  },
  {
   "cell_type": "code",
   "execution_count": null,
   "metadata": {},
   "outputs": [],
   "source": [
    "df_train, df_test = train_test_split(sampled_df, test_size=0.5, random_state=42)"
   ]
  },
  {
   "cell_type": "code",
   "execution_count": null,
   "metadata": {},
   "outputs": [],
   "source": [
    "Y_train = df_train[Y]\n",
    "X_train = df_train[X]\n",
    "T_train = df_train[T]\n",
    "\n",
    "Y_test = df_test[Y]\n",
    "X_test = df_test[X]\n",
    "T_test = df_test[T]"
   ]
  },
  {
   "cell_type": "code",
   "execution_count": null,
   "metadata": {},
   "outputs": [],
   "source": [
    "est = LinearDML(model_y=RandomForestClassifier(min_samples_leaf=10),\n",
    "                model_t=RandomForestClassifier(min_samples_leaf=10),\n",
    "                discrete_treatment=True,\n",
    "                discrete_outcome=True,  #\n",
    "                cv=6)\n",
    "est.fit(Y=Y_train, T=T_train, X=X_train)\n",
    "te_pred = est.effect(X_test)\n",
    "lb, ub = est.effect_interval(X_test, alpha=0.01)"
   ]
  },
  {
   "cell_type": "code",
   "execution_count": null,
   "metadata": {},
   "outputs": [],
   "source": [
    "print(np.mean(te_pred))"
   ]
  },
  {
   "cell_type": "code",
   "execution_count": null,
   "metadata": {},
   "outputs": [],
   "source": [
    "te_pred"
   ]
  },
  {
   "cell_type": "code",
   "execution_count": null,
   "metadata": {},
   "outputs": [],
   "source": [
    "plt.figure(figsize=(10, 6))\n",
    "ax = plt.gca()\n",
    "ax.set_facecolor('#f5f5f5')  \n",
    "for spine in ax.spines.values():\n",
    "    spine.set_visible(False)\n",
    "plt.hist(te_pred, bins=30, color='lightblue', alpha=0.7, edgecolor='none')\n",
    "plt.xlabel(\"Predicted Treatment Effect\")\n",
    "plt.ylabel(\"Frequency\")\n",
    "plt.grid(True, alpha=0.6)\n",
    "plt.show()"
   ]
  },
  {
   "cell_type": "code",
   "execution_count": null,
   "metadata": {},
   "outputs": [],
   "source": [
    "def elast(data, y, t):\n",
    "    return (np.sum((data[t] - data[t].mean()) * (data[y] - data[y].mean())) /\n",
    "            np.sum((data[t] - data[t].mean()) ** 2))\n",
    "\n",
    "def cumulative_gain(dataset, prediction, y, t, min_periods=30, steps=100):\n",
    "    size = dataset.shape[0]\n",
    "    ordered_df = dataset.sort_values(prediction, ascending=False).reset_index(drop=True)\n",
    "    n_rows = list(range(min_periods, size, size // steps)) + [size]\n",
    "    return np.array([elast(ordered_df.head(rows), y, t) * (rows / size) for rows in n_rows])"
   ]
  },
  {
   "cell_type": "code",
   "execution_count": null,
   "metadata": {},
   "outputs": [],
   "source": [
    "cate_train = est.effect(X_train)\n",
    "cate_test = est.effect(X_test)\n",
    "\n",
    "ATE_test = cate_test.mean()\n",
    "print(f\"ATE (Test): {ATE_test}\")\n",
    "\n",
    "df_train = df_train.assign(cate=cate_train)\n",
    "df_test = df_test.assign(cate=cate_test)\n",
    "\n",
    "# Cumulative gain functions\n",
    "gain_curve_test = cumulative_gain(df_test, \"cate\", y=\"res\", t=\"T_binary\")\n",
    "gain_curve_train = cumulative_gain(df_train, \"cate\", y=\"res\", t=\"T_binary\")\n",
    "\n",
    "import matplotlib.pyplot as plt\n",
    "\n",
    "plt.plot(gain_curve_test, color=\"C0\", label=\"Test\")\n",
    "plt.plot(gain_curve_train, color=\"C1\", label=\"Train\")\n",
    "plt.plot([0, 100], [0, elast(df_test, y=\"res\", t=\"T_binary\")], linestyle=\"--\", color=\"black\", label=\"Baseline\")\n",
    "plt.legend()\n",
    "plt.show()"
   ]
  },
  {
   "cell_type": "code",
   "execution_count": null,
   "metadata": {},
   "outputs": [],
   "source": [
    "#Non Linear DML\n",
    "est2 = DML(model_y=RandomForestClassifier(min_samples_leaf=10),\n",
    "           model_t=RandomForestClassifier(min_samples_leaf=10),\n",
    "            discrete_treatment=True,\n",
    "            discrete_outcome=True,\n",
    "           model_final=Lasso(alpha=0.1, fit_intercept=False),\n",
    "           featurizer=PolynomialFeatures(degree=3),\n",
    "           random_state=123)\n",
    "est2.fit(Y_train, T_train, X=X_train)\n",
    "te_pred2 = est2.effect(X_test)"
   ]
  },
  {
   "cell_type": "code",
   "execution_count": null,
   "metadata": {},
   "outputs": [],
   "source": [
    "print(np.mean(te_pred2))"
   ]
  },
  {
   "cell_type": "code",
   "execution_count": null,
   "metadata": {},
   "outputs": [],
   "source": [
    "plt.figure(figsize=(10, 6))\n",
    "ax = plt.gca()\n",
    "ax.set_facecolor('#f5f5f5')  \n",
    "for spine in ax.spines.values():\n",
    "    spine.set_visible(False)\n",
    "plt.hist(te_pred2, bins=30, color='lightblue', alpha=0.7, edgecolor='none')\n",
    "plt.xlabel(\"Predicted Treatment Effect\")\n",
    "plt.ylabel(\"Frequency\")\n",
    "plt.grid(True)\n",
    "plt.show()"
   ]
  },
  {
   "cell_type": "code",
   "execution_count": null,
   "metadata": {},
   "outputs": [],
   "source": [
    "cate_train_2 = est2.effect(X_train)\n",
    "cate_test_2 = est2.effect(X_test)\n",
    "\n",
    "ATE_test_2 = cate_test_2.mean()\n",
    "print(f\"ATE (Test): {ATE_test_2}\")\n",
    "\n",
    "df_train_2 = df_train.assign(cate=cate_train_2)\n",
    "df_test_2 = df_test.assign(cate=cate_test_2)\n",
    "\n",
    "# Cumulative gain functions\n",
    "gain_curve_test_2 = cumulative_gain(df_test_2, \"cate\", y=\"res\", t=\"T_binary\")\n",
    "gain_curve_train_2 = cumulative_gain(df_train_2, \"cate\", y=\"res\", t=\"T_binary\")\n",
    "import matplotlib.pyplot as plt\n",
    "\n",
    "plt.plot(gain_curve_test_2, color=\"C0\", label=\"Test\")\n",
    "plt.plot(gain_curve_train_2, color=\"C1\", label=\"Train\")\n",
    "plt.plot([0, 100], [0, elast(df_test_2, y=\"res\", t=\"T_binary\")], linestyle=\"--\", color=\"black\", label=\"Baseline\")\n",
    "plt.legend()\n",
    "plt.show()"
   ]
  },
  {
   "cell_type": "code",
   "execution_count": null,
   "metadata": {},
   "outputs": [],
   "source": [
    "#Causal Forest\n",
    "est3 = CausalForestDML(model_y=RandomForestRegressor(),\n",
    "                       model_t=RandomForestClassifier(min_samples_leaf=10),\n",
    "                       discrete_treatment=True,\n",
    "                       discrete_outcome=True,\n",
    "                       n_estimators=1000,\n",
    "                       min_impurity_decrease=0.001,\n",
    "                       verbose=0,\n",
    "                       cv=6)\n",
    "est3.tune(Y=Y_train, T=T_train, X=X_train)\n",
    "est3.fit(Y=Y_train, T=T_train, X=X_train)\n",
    "te_pred3 = est3.effect(X_test)\n",
    "lb3, ub3 = est3.effect_interval(X_test, alpha=0.01)\n",
    "\n",
    "est3.fit(Y_train, T_train, X=X_train)\n",
    "te_pred3 = est3.effect(X_test)"
   ]
  },
  {
   "cell_type": "code",
   "execution_count": null,
   "metadata": {},
   "outputs": [],
   "source": [
    "print(np.mean(te_pred3))"
   ]
  },
  {
   "cell_type": "code",
   "execution_count": null,
   "metadata": {},
   "outputs": [],
   "source": [
    "plt.figure(figsize=(10, 6))\n",
    "ax = plt.gca()\n",
    "ax.set_facecolor('#f5f5f5')  \n",
    "for spine in ax.spines.values():\n",
    "    spine.set_visible(False)\n",
    "plt.hist(te_pred3, bins=30, color='lightblue', alpha=0.7, edgecolor='none')\n",
    "plt.xlabel(\"Predicted Treatment Effect\")\n",
    "plt.ylabel(\"Frequency\")\n",
    "plt.grid(True)\n",
    "plt.show()"
   ]
  },
  {
   "cell_type": "code",
   "execution_count": null,
   "metadata": {
    "scrolled": true
   },
   "outputs": [],
   "source": [
    "cate_train_3 = est3.effect(X_train)\n",
    "cate_test_3 = est3.effect(X_test)\n",
    "\n",
    "ATE_test_3 = cate_test_3.mean()\n",
    "print(f\"ATE (Test): {ATE_test_3}\")\n",
    "\n",
    "df_train_3 = df_train.assign(cate=cate_train_3)\n",
    "df_test_3 = df_test.assign(cate=cate_test_3)\n",
    "\n",
    "gain_curve_test_3 = cumulative_gain(df_test_3, \"cate\", y=\"res\", t=\"T_binary\")\n",
    "gain_curve_train_3 = cumulative_gain(df_train_3, \"cate\", y=\"res\", t=\"T_binary\")\n",
    "\n",
    "import matplotlib.pyplot as plt\n",
    "\n",
    "plt.plot(gain_curve_test_3, color=\"C0\", label=\"Test\")\n",
    "plt.plot(gain_curve_train_3, color=\"C1\", label=\"Train\")\n",
    "plt.plot([0, 100], [0, elast(df_test_3, y=\"res\", t=\"T_binary\")], linestyle=\"--\", color=\"black\", label=\"Baseline\")\n",
    "plt.legend()\n",
    "plt.show()"
   ]
  },
  {
   "cell_type": "markdown",
   "metadata": {},
   "source": [
    "## Visualize Heterogenous Effects "
   ]
  },
  {
   "cell_type": "code",
   "execution_count": null,
   "metadata": {},
   "outputs": [],
   "source": [
    "feature_to_plot = 'america'  \n",
    "\n",
    "plt.figure(figsize=(10, 6))\n",
    "plt.scatter(X_test[feature_to_plot], te_pred3, alpha=0.5)\n",
    "plt.xlabel(feature_to_plot)\n",
    "plt.ylabel(\"Estimated Treatment Effect\")\n",
    "plt.title(\"Heterogeneous Treatment Effects by Feature\")\n",
    "plt.show()"
   ]
  },
  {
   "cell_type": "code",
   "execution_count": null,
   "metadata": {},
   "outputs": [],
   "source": [
    "feature_to_plot = 'middleast'  \n",
    "\n",
    "plt.figure(figsize=(10, 6))\n",
    "plt.scatter(X_test[feature_to_plot], te_pred3, alpha=0.5)\n",
    "plt.xlabel(feature_to_plot)\n",
    "plt.ylabel(\"Estimated Treatment Effect\")\n",
    "plt.title(\"Heterogeneous Treatment Effects by Feature\")\n",
    "plt.show()"
   ]
  },
  {
   "cell_type": "code",
   "execution_count": null,
   "metadata": {},
   "outputs": [],
   "source": [
    "feature_to_plot = 'africa'  \n",
    "\n",
    "plt.figure(figsize=(10, 6))\n",
    "plt.scatter(X_test[feature_to_plot], te_pred3, alpha=0.5)\n",
    "plt.xlabel(feature_to_plot)\n",
    "plt.ylabel(\"Estimated Treatment Effect\")\n",
    "plt.title(\"Heterogeneous Treatment Effects by Feature\")\n",
    "plt.show()"
   ]
  },
  {
   "cell_type": "code",
   "execution_count": null,
   "metadata": {},
   "outputs": [],
   "source": [
    "feature_to_plot = 'europe'  \n",
    "\n",
    "plt.figure(figsize=(10, 6))\n",
    "plt.scatter(X_test[feature_to_plot], te_pred3, alpha=0.5)\n",
    "plt.xlabel(feature_to_plot)\n",
    "plt.ylabel(\"Estimated Treatment Effect\")\n",
    "plt.title(\"Heterogeneous Treatment Effects by Feature\")\n",
    "plt.show()"
   ]
  },
  {
   "cell_type": "code",
   "execution_count": null,
   "metadata": {},
   "outputs": [],
   "source": [
    "feature_column = X_test[feature_to_plot].flatten() if len(X_test[feature_to_plot].shape) > 1 else X_test[feature_to_plot]\n",
    "treatment_effects = te_pred3.flatten() if len(te_pred3.shape) > 1 else te_pred3"
   ]
  },
  {
   "cell_type": "code",
   "execution_count": null,
   "metadata": {},
   "outputs": [],
   "source": [
    "data = pd.DataFrame({\n",
    "    feature_to_plot: feature_column,  \n",
    "    \"Treatment Effect\": treatment_effects  \n",
    "})\n",
    "\n",
    "mean_effects = data.groupby(feature_to_plot)[\"Treatment Effect\"].mean()\n",
    "std_errors = data.groupby(feature_to_plot)[\"Treatment Effect\"].sem()\n",
    "\n",
    "plt.figure(figsize=(8, 6))\n",
    "plt.bar(mean_effects.index, mean_effects, yerr=std_errors, capsize=5, color=[\"#3498db\", \"#e74c3c\"])\n",
    "plt.xlabel(feature_to_plot)\n",
    "plt.ylabel(\"Mean Estimated Treatment Effect\")\n",
    "plt.title(\"Average Heterogeneous Treatment Effects by Feature\")\n",
    "plt.xticks([0, 1], ['Not Europe', 'Europe'])  \n",
    "plt.grid(axis='y', linestyle='--', alpha=0.7)\n",
    "plt.show()"
   ]
  },
  {
   "cell_type": "code",
   "execution_count": null,
   "metadata": {},
   "outputs": [],
   "source": [
    "#Relabel for better graphs\n",
    "relabel_mapping = {\n",
    "    'chair': 'Judge',\n",
    "    'dummy_asylum': 'Asylum Status (Dummy)',\n",
    "    'dummy_gender': 'Gender (Dummy)',\n",
    "    'middleast': 'Middle East',\n",
    "    'america': 'America',\n",
    "    'africa': 'Africa',\n",
    "    'europe': 'Europe',\n",
    "    'northeast': 'Northeast Region',\n",
    "    'midwest': 'Midwest Region',\n",
    "    'south': 'Southern Region',\n",
    "    'year2000': 'Year 2000',\n",
    "    'year2001': 'Year 2001',\n",
    "    'year2002': 'Year 2002',\n",
    "    'year2003': 'Year 2003',\n",
    "    'month_1': 'January',\n",
    "    'month_2': 'February',\n",
    "    'month_3': 'March',\n",
    "    'month_4': 'April',\n",
    "    'month_5': 'May',\n",
    "    'month_6': 'June',\n",
    "    'month_7': 'July',\n",
    "    'month_8': 'August',\n",
    "    'month_9': 'September',\n",
    "    'month_10': 'October',\n",
    "    'month_11': 'November'\n",
    "}"
   ]
  },
  {
   "cell_type": "code",
   "execution_count": null,
   "metadata": {},
   "outputs": [],
   "source": [
    "importances = est3.feature_importances_\n",
    "features = X_test.columns\n",
    "relabelled_features = [relabel_mapping.get(feature, feature) for feature in features]\n",
    "\n",
    "plt.figure(figsize=(12, 6))\n",
    "sns.barplot(x=importances, y=relabelled_features, orient='h', palette='viridis')\n",
    "plt.xlabel('Importance', fontsize=14)\n",
    "plt.ylabel('Features', fontsize=14)\n",
    "plt.show()"
   ]
  },
  {
   "cell_type": "markdown",
   "metadata": {},
   "source": [
    "## Simulate Variables"
   ]
  },
  {
   "cell_type": "code",
   "execution_count": null,
   "metadata": {},
   "outputs": [],
   "source": [
    "## Simulate the deviation variable data\n",
    "sample_size = int(len(df_final) * 0.8)\n",
    "random_indices = np.random.choice(df_final.index, size=sample_size, replace=False)\n",
    "df_final['adjusted_deviation'] = df_final['deviation'] + 0.002"
   ]
  },
  {
   "cell_type": "code",
   "execution_count": null,
   "metadata": {},
   "outputs": [],
   "source": [
    "df_final['T_binary_simulated'] = (df_final['adjusted_deviation'] > 0.000095).astype(int)\n",
    "print(df_final['T_binary_simulated'].value_counts())\n",
    "T_simulated = 'T_binary_simulated'"
   ]
  },
  {
   "cell_type": "code",
   "execution_count": null,
   "metadata": {},
   "outputs": [],
   "source": [
    "sampled_df_simulated = df_final.sample(frac=0.3, random_state=42)"
   ]
  },
  {
   "cell_type": "code",
   "execution_count": null,
   "metadata": {},
   "outputs": [],
   "source": [
    "df_train_s, df_test_s = train_test_split(sampled_df_simulated, test_size=0.5, random_state=42)"
   ]
  },
  {
   "cell_type": "code",
   "execution_count": null,
   "metadata": {},
   "outputs": [],
   "source": [
    "T_simulated_train = df_train_s[T_simulated]\n",
    "\n",
    "T_simulated_test = df_test_s[T_simulated]"
   ]
  },
  {
   "cell_type": "code",
   "execution_count": null,
   "metadata": {},
   "outputs": [],
   "source": [
    "est = LinearDML(model_y=RandomForestClassifier(min_samples_leaf=10),\n",
    "                model_t=RandomForestClassifier(min_samples_leaf=10),\n",
    "                discrete_treatment=True,\n",
    "                discrete_outcome=True,  \n",
    "                cv=6)\n",
    "est.fit(Y=Y_train, T=T_simulated_train, X=X_train)\n",
    "te_pred_est = est.effect(X_test)\n",
    "lb, ub = est.effect_interval(X_test, alpha=0.01)"
   ]
  },
  {
   "cell_type": "code",
   "execution_count": null,
   "metadata": {},
   "outputs": [],
   "source": [
    "plt.figure(figsize=(10, 6))\n",
    "ax = plt.gca()\n",
    "ax.set_facecolor('#f5f5f5')  \n",
    "for spine in ax.spines.values():\n",
    "    spine.set_visible(False)\n",
    "plt.hist(te_pred_est, bins=30, color='lightblue', alpha=0.7, edgecolor='none')\n",
    "plt.xlabel(\"Predicted Treatment Effect\")\n",
    "plt.ylabel(\"Frequency\")\n",
    "plt.grid(True)\n",
    "plt.show()"
   ]
  }
 ],
 "metadata": {
  "kernelspec": {
   "display_name": "Python 3 (ipykernel)",
   "language": "python",
   "name": "python3"
  },
  "language_info": {
   "codemirror_mode": {
    "name": "ipython",
    "version": 3
   },
   "file_extension": ".py",
   "mimetype": "text/x-python",
   "name": "python",
   "nbconvert_exporter": "python",
   "pygments_lexer": "ipython3",
   "version": "3.11.6"
  }
 },
 "nbformat": 4,
 "nbformat_minor": 4
}
